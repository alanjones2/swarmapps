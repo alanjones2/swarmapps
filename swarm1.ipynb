{
 "cells": [
  {
   "cell_type": "markdown",
   "metadata": {},
   "source": [
    "### Swarm set up"
   ]
  },
  {
   "cell_type": "code",
   "execution_count": 1,
   "metadata": {},
   "outputs": [],
   "source": [
    "from swarm import Swarm, Agent\n",
    "\n",
    "client = Swarm()"
   ]
  },
  {
   "cell_type": "markdown",
   "metadata": {},
   "source": [
    "### Basic use"
   ]
  },
  {
   "cell_type": "code",
   "execution_count": 2,
   "metadata": {},
   "outputs": [],
   "source": [
    "agent = Agent(\n",
    "    name=\"Agent\",\n",
    "    instructions=\"You are a helpful agent.\",\n",
    ")"
   ]
  },
  {
   "cell_type": "code",
   "execution_count": 3,
   "metadata": {},
   "outputs": [
    {
     "name": "stdout",
     "output_type": "stream",
     "text": [
      "The capital of Portugal is Lisbon.\n"
     ]
    }
   ],
   "source": [
    "messages = [{\"role\": \"user\", \"content\": \"What is the capital of Portugal\"}]\n",
    "response = client.run(agent=agent, messages=messages)\n",
    "\n",
    "print(response.messages[-1][\"content\"])"
   ]
  },
  {
   "cell_type": "markdown",
   "metadata": {},
   "source": [
    "### Handoff to another agent"
   ]
  },
  {
   "cell_type": "code",
   "execution_count": 4,
   "metadata": {},
   "outputs": [],
   "source": [
    "english_agent = Agent(\n",
    "    name=\"English Agent\",\n",
    "    instructions=\"You only speak English.\",\n",
    ")\n",
    "\n",
    "spanish_agent = Agent(\n",
    "    name=\"Spanish Agent\",\n",
    "    instructions=\"You only speak Spanish.\",\n",
    ")\n",
    "\n",
    "\n",
    "def transfer_to_spanish_agent():\n",
    "    \"\"\"Transfer spanish speaking users immediately.\"\"\"\n",
    "    return spanish_agent\n",
    "\n",
    "\n",
    "english_agent.functions.append(transfer_to_spanish_agent)\n",
    "\n"
   ]
  },
  {
   "cell_type": "code",
   "execution_count": 5,
   "metadata": {},
   "outputs": [
    {
     "name": "stdout",
     "output_type": "stream",
     "text": [
      "Hola, estoy bien, gracias. ¿Y tú, cómo estás?\n"
     ]
    }
   ],
   "source": [
    "messages = [{\"role\": \"user\", \"content\": \"Hola. ¿Como estás?\"}]\n",
    "response = client.run(agent=english_agent, messages=messages)\n",
    "\n",
    "print(response.messages[-1][\"content\"])"
   ]
  },
  {
   "cell_type": "code",
   "execution_count": 6,
   "metadata": {},
   "outputs": [
    {
     "name": "stdout",
     "output_type": "stream",
     "text": [
      "Hello! I'm just a computer program, so I don't have feelings, but I'm here to help you. How can I assist you today?\n"
     ]
    }
   ],
   "source": [
    "messages = [{\"role\": \"user\", \"content\": \"Hi. How are you?\"}]\n",
    "response = client.run(agent=english_agent, messages=messages)\n",
    "\n",
    "print(response.messages[-1][\"content\"])"
   ]
  },
  {
   "cell_type": "markdown",
   "metadata": {},
   "source": [
    "### Add a tool"
   ]
  },
  {
   "cell_type": "code",
   "execution_count": 7,
   "metadata": {},
   "outputs": [],
   "source": [
    "import wikipedia\n",
    "\n",
    "def wikipedia_lookup(q: str) -> str:\n",
    "    \"\"\"Look up a query in Wikipedia and return the result\"\"\"\n",
    "    return wikipedia.page(q).summary"
   ]
  },
  {
   "cell_type": "code",
   "execution_count": 19,
   "metadata": {},
   "outputs": [],
   "source": [
    "wikiagent = Agent(\n",
    "    name=\"Agent\",\n",
    "    instructions=\"\"\"You are a helpful agent that finds information from Wikipedia.\n",
    "    Work out what the user is interested in, look up the relevant \n",
    "    information and from that provide an answer.\"\"\",\n",
    "    functions=[wikipedia_lookup],\n",
    ")"
   ]
  },
  {
   "cell_type": "code",
   "execution_count": 9,
   "metadata": {},
   "outputs": [
    {
     "name": "stdout",
     "output_type": "stream",
     "text": [
      "The population of Madrid, the capital of Spain, is almost 3.4 million inhabitants within the city itself, and the metropolitan area has a population of approximately 7 million.\n"
     ]
    }
   ],
   "source": [
    "messages = [{\"role\": \"user\", \"content\": \"What is the population of the capital of Spain\"}]\n",
    "\n",
    "response = client.run(agent=wikiagent, messages=messages)\n",
    "print(response.messages[-1][\"content\"])"
   ]
  },
  {
   "cell_type": "markdown",
   "metadata": {},
   "source": [
    "But this often fails because it tries to look up pages that do not exist. A more robust approach is necessary."
   ]
  },
  {
   "cell_type": "code",
   "execution_count": 36,
   "metadata": {},
   "outputs": [],
   "source": [
    "wikiagent = Agent(\n",
    "    name=\"Agent\",\n",
    "    instructions=\"\"\"You are a helpful agent that finds information from Wikipedia.\n",
    "    Work out what the user is interested in.\n",
    "    If possible pick a keyword, look up the relevant \n",
    "    information for that keyword.\n",
    "    If you arte able provided an answer from that information.\n",
    "    Otherwise, try again with another query.\n",
    "    \"\"\",\n",
    "    functions=[wikipedia_lookup],\n",
    ")"
   ]
  },
  {
   "cell_type": "code",
   "execution_count": 39,
   "metadata": {},
   "outputs": [
    {
     "name": "stdout",
     "output_type": "stream",
     "text": [
      "The largest capital in the EU by population within the city boundary is Berlin. If you need the exact population figure or more detailed information, please let me know!\n"
     ]
    }
   ],
   "source": [
    "messages = [{\"role\": \"user\", \"content\": \"What is the population of the largest capital in the EU\"}]\n",
    "\n",
    "response = client.run(agent=wikiagent, messages=messages)\n",
    "print(response.messages[-1][\"content\"])"
   ]
  },
  {
   "cell_type": "code",
   "execution_count": 40,
   "metadata": {},
   "outputs": [
    {
     "name": "stdout",
     "output_type": "stream",
     "text": [
      "[{'content': None, 'refusal': None, 'role': 'assistant', 'audio': None, 'function_call': None, 'tool_calls': [{'id': 'call_i63hGfOPVZ5MpWvJS9HAI3Iu', 'function': {'arguments': '{\"q\":\"largest capital in the EU by population\"}', 'name': 'wikipedia_lookup'}, 'type': 'function'}], 'sender': 'Agent'}, {'role': 'tool', 'tool_call_id': 'call_i63hGfOPVZ5MpWvJS9HAI3Iu', 'tool_name': 'wikipedia_lookup', 'content': 'This is a list of the largest cities in the European Union according to the population within their city boundary. The cities listed all have populations over 300,000. The list deals exclusively with the areas within city administrative boundaries as opposed to urban areas or larger urban zones (metropolitan areas), which are generally larger in terms of population than the main city (although they can also be smaller, in some of the cases presented).\\nAs some cities have a very narrow boundary and others a very wide one, the list may not give an accurate view of the comparative magnitude of entire urban areas, and thus the figures in the list should be treated with caution. For example Paris is the most populous urban area in the European Union; however, the city proper of the French capital has a lower population than top-ranked Berlin and a couple of other cities, as shown in the table. Likewise the City of Brussels is only one of a total of 19 municipalities making up the greater Brussels Capital Region, and by itself does not reach the population threshold to be listed here. On the other hand, the Municipality of Sintra, listed on the table as the second most populous Portuguese city includes in it the cities of Agualva-Cacém and Queluz, in addition to the town of Sintra and other urban centers.\\n\\n'}, {'content': 'The largest capital in the EU by population within the city boundary is Berlin. If you need the exact population figure or more detailed information, please let me know!', 'refusal': None, 'role': 'assistant', 'audio': None, 'function_call': None, 'tool_calls': None, 'sender': 'Agent'}]\n"
     ]
    }
   ],
   "source": [
    "print(response.messages)"
   ]
  },
  {
   "cell_type": "code",
   "execution_count": null,
   "metadata": {},
   "outputs": [],
   "source": []
  },
  {
   "cell_type": "code",
   "execution_count": 37,
   "metadata": {},
   "outputs": [
    {
     "name": "stdout",
     "output_type": "stream",
     "text": [
      "In terms of population and area, Berlin is bigger than Paris.\n",
      "\n",
      "- **Berlin**: As the capital and largest city of Germany, Berlin has more than 3.85 million inhabitants within the city limits and covers an extensive area. The greater Berlin urban area has a population of over 4.5 million.\n",
      "\n",
      "- **Paris**: As the capital and largest city of France, Paris has a population of about 2.1 million within the city area of around 105 km².\n",
      "\n",
      "Berlin is larger both in terms of population and urban area as compared to Paris.\n"
     ]
    }
   ],
   "source": [
    "messages = [{\"role\": \"user\", \"content\": \"Which is bigger Paris or Berlin\"}]\n",
    "\n",
    "response = client.run(agent=wikiagent, messages=messages)\n",
    "print(response.messages[-1][\"content\"])"
   ]
  },
  {
   "cell_type": "code",
   "execution_count": 38,
   "metadata": {},
   "outputs": [
    {
     "name": "stdout",
     "output_type": "stream",
     "text": [
      "{'content': None, 'refusal': None, 'role': 'assistant', 'audio': None, 'function_call': None, 'tool_calls': [{'id': 'call_xvKmPqQEbRr1N53SB28YL3YL', 'function': {'arguments': '{\"q\": \"Paris\"}', 'name': 'wikipedia_lookup'}, 'type': 'function'}, {'id': 'call_T5OdF77NpmvnWUXnTxQeon4M', 'function': {'arguments': '{\"q\": \"Berlin\"}', 'name': 'wikipedia_lookup'}, 'type': 'function'}], 'sender': 'Agent'}\n",
      "{'role': 'tool', 'tool_call_id': 'call_xvKmPqQEbRr1N53SB28YL3YL', 'tool_name': 'wikipedia_lookup', 'content': \"Paris (French pronunciation: [paʁi] ) is the capital and largest city of France. With an official estimated population of 2,102,650 residents in January 2023 in an area of more than 105 km2 (41 sq mi), Paris is the fourth-largest city in the European Union and the 30th most densely populated city in the world in 2022. Since the 17th century, Paris has been one of the world's major centres of finance, diplomacy, commerce, culture, fashion, and gastronomy. For its leading role in the arts and sciences, as well as its early and extensive system of street lighting, in the 19th century, it became known as the City of Light.\\nThe City of Paris is the centre of the Île-de-France region, or Paris Region, with an official estimated population of 12,271,794 inhabitants in January 2023, or about 19% of the population of France. The Paris Region had a GDP of €765 billion (US$1.064 trillion, PPP) in 2021, the highest in the European Union. According to the Economist Intelligence Unit Worldwide Cost of Living Survey, in 2022, Paris was the city with the ninth-highest cost of living in the world.\\nParis is a major railway, highway, and air-transport hub served by two international airports: Charles de Gaulle Airport, the third-busiest airport in Europe, and Orly Airport. Opened in 1900, the city's subway system, the Paris Métro, serves 5.23 million passengers daily. It is the second-busiest metro system in Europe after the Moscow Metro. Gare du Nord is the 24th-busiest railway station in the world and the busiest outside Japan, with 262 million passengers in 2015. Paris has one of the most sustainable transportation systems and is one of only two cities in the world that received the Sustainable Transport Award twice.\\nParis is known for its museums and architectural landmarks: the Louvre received 8.9 million visitors in 2023, on track for keeping its position as the most-visited art museum in the world. The Musée d'Orsay, Musée Marmottan Monet and Musée de l'Orangerie are noted for their collections of French Impressionist art. The Pompidou Centre Musée National d'Art Moderne, Musée Rodin and Musée Picasso are noted for their collections of modern and contemporary art. The historical district along the Seine in the city centre has been classified as a UNESCO World Heritage Site since 1991.\\nParis is home to several United Nations organizations including UNESCO, as well as other international organizations such as the OECD, the OECD Development Centre, the International Bureau of Weights and Measures, the International Energy Agency, the International Federation for Human Rights, along with European bodies such as the European Space Agency, the European Banking Authority and the European Securities and Markets Authority. The football club Paris Saint-Germain and the rugby union club Stade Français are based in Paris. The 81,000-seat Stade de France, built for the 1998 FIFA World Cup, is located just north of Paris in the neighbouring commune of Saint-Denis. Paris hosts the annual French Open Grand Slam tennis tournament on the red clay of Roland Garros. Paris hosted the 1900, the 1924, and the 2024 Summer Olympics. The 1938 and 1998 FIFA World Cups, the 2019 FIFA Women's World Cup, the 2007 Rugby World Cup, as well as the 1960, 1984 and 2016 UEFA European Championships were held in Paris. Every July, the Tour de France bicycle race finishes on the Avenue des Champs-Élysées in Paris.\"}\n",
      "{'role': 'tool', 'tool_call_id': 'call_T5OdF77NpmvnWUXnTxQeon4M', 'tool_name': 'wikipedia_lookup', 'content': 'Berlin is the capital and largest city of Germany, both by area and by population. Its more than 3.85 million inhabitants make it the European Union\\'s most populous city, as measured by population within city limits. The city is also one of the states of Germany, and is the third smallest state in the country in terms of area. Berlin is surrounded by the state of Brandenburg, and Brandenburg\\'s capital Potsdam is nearby. The urban area of Berlin has a population of over 4.5 million and is therefore the most populous urban area in Germany. The Berlin-Brandenburg capital region has around 6.2 million inhabitants and is Germany\\'s second-largest metropolitan region after the Rhine-Ruhr region, and the sixth-biggest metropolitan region by GDP in the European Union.\\nBerlin was built along the banks of the Spree river, which flows into the Havel in the western borough of Spandau. The city incorporates lakes in the western and southeastern boroughs, the largest of which is Müggelsee. About one-third of the city\\'s area is composed of forests, parks and gardens, rivers, canals, and lakes.\\nFirst documented in the 13th century and at the crossing of two important historic trade routes, Berlin was designated the capital of the Margraviate of Brandenburg (1417–1701), Kingdom of Prussia (1701–1918), German Empire (1871–1918), Weimar Republic (1919–1933), and Nazi Germany (1933–1945). Berlin has served as a scientific, artistic, and philosophical hub during the Age of Enlightenment, Neoclassicism, and the German revolutions of 1848–1849. During the Gründerzeit, an industrialization-induced economic boom triggered a rapid population increase in Berlin. 1920s Berlin was the third-largest city in the world by population.\\nAfter World War II and following Berlin\\'s occupation, the city was split into West Berlin and East Berlin, divided by the Berlin Wall. East Berlin was declared the capital of East Germany, while Bonn became the West German capital. Following German reunification in 1990, Berlin once again became the capital of all of Germany. Due to its geographic location and history, Berlin has been called \"the heart of Europe\".\\nThe economy of Berlin is based on high tech and the service sector, encompassing a diverse range of creative industries, startup companies, research facilities, and media corporations. Berlin serves as a continental hub for air and rail traffic and has a complex public transportation network. Tourism in Berlin makes the city a popular global destination. Significant industries include information technology, the healthcare industry, biomedical engineering, biotechnology, the automotive industry, and electronics.\\nBerlin is home to several universities such as the Humboldt University of Berlin, Technische Universität Berlin, the Berlin University of the Arts and the Free University of Berlin. The Berlin Zoological Garden is the most visited zoo in Europe. Babelsberg Studio is the world\\'s first large-scale movie studio complex and the list of films set in Berlin is long.\\nBerlin is also home to three World Heritage Sites: Museum Island, the Palaces and Parks of Potsdam and Berlin, and the Berlin Modernism Housing Estates. Other landmarks include the Brandenburg Gate, the Reichstag building, Potsdamer Platz, the Memorial to the Murdered Jews of Europe, and the Berlin Wall Memorial. Berlin has numerous museums, galleries, and libraries.'}\n",
      "{'content': 'In terms of population and area, Berlin is bigger than Paris.\\n\\n- **Berlin**: As the capital and largest city of Germany, Berlin has more than 3.85 million inhabitants within the city limits and covers an extensive area. The greater Berlin urban area has a population of over 4.5 million.\\n\\n- **Paris**: As the capital and largest city of France, Paris has a population of about 2.1 million within the city area of around 105 km².\\n\\nBerlin is larger both in terms of population and urban area as compared to Paris.', 'refusal': None, 'role': 'assistant', 'audio': None, 'function_call': None, 'tool_calls': None, 'sender': 'Agent'}\n"
     ]
    }
   ],
   "source": [
    "for m in response.messages:\n",
    "    print(m)"
   ]
  }
 ],
 "metadata": {
  "kernelspec": {
   "display_name": "Python 3",
   "language": "python",
   "name": "python3"
  },
  "language_info": {
   "codemirror_mode": {
    "name": "ipython",
    "version": 3
   },
   "file_extension": ".py",
   "mimetype": "text/x-python",
   "name": "python",
   "nbconvert_exporter": "python",
   "pygments_lexer": "ipython3",
   "version": "3.12.7"
  }
 },
 "nbformat": 4,
 "nbformat_minor": 2
}
