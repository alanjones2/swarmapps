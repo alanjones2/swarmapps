{
 "cells": [
  {
   "cell_type": "markdown",
   "metadata": {},
   "source": [
    "### Swarm set up"
   ]
  },
  {
   "cell_type": "code",
   "execution_count": 1,
   "metadata": {},
   "outputs": [],
   "source": [
    "from swarm import Swarm, Agent\n",
    "\n",
    "client = Swarm()"
   ]
  },
  {
   "cell_type": "markdown",
   "metadata": {},
   "source": [
    "### Basic use"
   ]
  },
  {
   "cell_type": "code",
   "execution_count": 2,
   "metadata": {},
   "outputs": [],
   "source": [
    "agent = Agent(\n",
    "    name=\"Agent\",\n",
    "    instructions=\"You are a helpful agent.\",\n",
    ")"
   ]
  },
  {
   "cell_type": "code",
   "execution_count": 3,
   "metadata": {},
   "outputs": [
    {
     "name": "stdout",
     "output_type": "stream",
     "text": [
      "The capital of Portugal is Lisbon.\n"
     ]
    }
   ],
   "source": [
    "messages = [{\"role\": \"user\", \"content\": \"What is the capital of Portugal\"}]\n",
    "response = client.run(agent=agent, messages=messages)\n",
    "\n",
    "print(response.messages[-1][\"content\"])"
   ]
  },
  {
   "cell_type": "markdown",
   "metadata": {},
   "source": [
    "### Handoff to another agent"
   ]
  },
  {
   "cell_type": "code",
   "execution_count": 4,
   "metadata": {},
   "outputs": [],
   "source": [
    "english_agent = Agent(\n",
    "    name=\"English Agent\",\n",
    "    instructions=\"You only speak English.\",\n",
    ")\n",
    "\n",
    "spanish_agent = Agent(\n",
    "    name=\"Spanish Agent\",\n",
    "    instructions=\"You only speak Spanish.\",\n",
    ")\n",
    "\n",
    "\n",
    "def transfer_to_spanish_agent():\n",
    "    \"\"\"Transfer spanish speaking users immediately.\"\"\"\n",
    "    return spanish_agent\n",
    "\n",
    "\n",
    "english_agent.functions.append(transfer_to_spanish_agent)\n",
    "\n"
   ]
  },
  {
   "cell_type": "code",
   "execution_count": 5,
   "metadata": {},
   "outputs": [
    {
     "name": "stdout",
     "output_type": "stream",
     "text": [
      "¡Hola! Estoy bien, gracias. ¿Y tú, cómo estás?\n"
     ]
    }
   ],
   "source": [
    "messages = [{\"role\": \"user\", \"content\": \"Hola. ¿Como estás?\"}]\n",
    "response = client.run(agent=english_agent, messages=messages)\n",
    "\n",
    "print(response.messages[-1][\"content\"])"
   ]
  },
  {
   "cell_type": "code",
   "execution_count": 6,
   "metadata": {},
   "outputs": [
    {
     "name": "stdout",
     "output_type": "stream",
     "text": [
      "I'm doing well, thank you! How can I assist you today?\n"
     ]
    }
   ],
   "source": [
    "messages = [{\"role\": \"user\", \"content\": \"Hi. How are you?\"}]\n",
    "response = client.run(agent=english_agent, messages=messages)\n",
    "\n",
    "print(response.messages[-1][\"content\"])"
   ]
  },
  {
   "cell_type": "markdown",
   "metadata": {},
   "source": [
    "### Add a tool"
   ]
  },
  {
   "cell_type": "code",
   "execution_count": 20,
   "metadata": {},
   "outputs": [],
   "source": [
    "import wikipedia\n",
    "\n",
    "def wikipedia_lookup(q: str) -> str:\n",
    "    \"\"\"Look up a query in Wikipedia and return the result\"\"\"\n",
    "    try: return wikipedia.page(q).summary\n",
    "    except: return None\n",
    "\n",
    "def wikipedia_search(q: str) -> str:\n",
    "    \"\"\"Search for a topic in Wikipedia and return the result\"\"\"\n",
    "    return wikipedia.search(q)"
   ]
  },
  {
   "cell_type": "code",
   "execution_count": 157,
   "metadata": {},
   "outputs": [
    {
     "data": {
      "text/plain": [
       "['European Capital of Culture',\n",
       " 'List of national capitals',\n",
       " 'Religion in the European Union',\n",
       " 'European Union',\n",
       " 'Vienna Capitals',\n",
       " 'European Council on Foreign Relations',\n",
       " 'Crime in London',\n",
       " 'Crime in Bucharest',\n",
       " 'Flag of Europe',\n",
       " 'Ramona Strugariu']"
      ]
     },
     "execution_count": 157,
     "metadata": {},
     "output_type": "execute_result"
    }
   ],
   "source": [
    "topics = wikipedia.search('EU capitals')\n",
    "topics"
   ]
  },
  {
   "cell_type": "code",
   "execution_count": 161,
   "metadata": {},
   "outputs": [
    {
     "name": "stdout",
     "output_type": "stream",
     "text": [
      "The European Union (EU) is a supranational political and economic union of 27 member states that are located primarily in Europe. The Union has a total area of 4,233,255 km2 (1,634,469 sq mi) and an estimated total population of over 449 million. The EU has often been described as a sui generis political entity combining the characteristics of both a federation and a confederation.\n",
      "Containing 5.8% of the world population in 2020, EU member states generated a nominal gross domestic product (GDP) of around US$16.6 trillion in 2022, constituting approximately one sixth of global nominal GDP. Additionally, all EU states except Bulgaria have a very high Human Development Index according to the United Nations Development Programme. Its cornerstone, the Customs Union, paved the way to establishing an internal single market based on standardised legal framework and legislation that applies in all member states in those matters, and only those matters, where the states have agreed to act as one. EU policies aim to ensure the free movement of people, goods, services and capital within the internal market; enact legislation in justice and home affairs; and maintain common policies on trade, agriculture, fisheries and regional development. Passport controls have been abolished for travel within the Schengen Area. The eurozone is a group composed of the 20 EU member states that have fully implemented the economic and monetary union and use the euro currency. Through the Common Foreign and Security Policy, the union has developed a role in external relations and defence. It maintains permanent diplomatic missions throughout the world and represents itself at the United Nations, the World Trade Organization, the G7 and the G20. Due to its global influence, the European Union has been described by some scholars as an emerging superpower.\n",
      "The EU was established, along with its citizenship, when the Maastricht Treaty came into force in 1993, and was incorporated as an international legal juridical person upon entry into force of the Treaty of Lisbon in 2009. Its beginnings can be traced to the Inner Six states (Belgium, France, Italy, Luxembourg, the Netherlands, and West Germany) at the start of modern European integration in 1948, and to the Western Union, the International Authority for the Ruhr, the European Coal and Steel Community, the European Economic Community and the European Atomic Energy Community, which were established by treaties. These increasingly amalgamated bodies grew, with their legal successor the EU, both in size through the accessions of a further 22 states from 1973 to 2013, and in power through acquisitions of policy areas.\n",
      "In 2012, the EU was awarded the Nobel Peace Prize. The United Kingdom became the only member state to leave the EU, in 2020; ten countries are aspiring or negotiating to join it.\n"
     ]
    }
   ],
   "source": [
    "entry = wikipedia_lookup(topics[3])\n",
    "print(entry)"
   ]
  },
  {
   "cell_type": "markdown",
   "metadata": {},
   "source": [
    "### A tool-using agent "
   ]
  },
  {
   "cell_type": "code",
   "execution_count": 106,
   "metadata": {},
   "outputs": [],
   "source": [
    "wikiagent = Agent(\n",
    "    name=\"Agent\",\n",
    "    instructions=\"\"\"You are a helpful agent that answers user queries by finding and analysing information from Wikipedia.\n",
    "                        You should follow the following sequence:\n",
    "                        1. Work out what the user is interested in.\n",
    "                        2. Pick keywords\n",
    "                        3. Use the lookup tool with the most relevant keyword\n",
    "                        4. From the resulting list of results pick the most relvant to the user query and search for it using the search tool \n",
    "                        5. If you are able provided an answer from that information stop and answer,\n",
    "                        otherwise, start again from step 2 but with different keywords. \n",
    "                        \"\"\",\n",
    "    functions=[wikipedia_lookup, wikipedia_search],\n",
    ")"
   ]
  },
  {
   "cell_type": "code",
   "execution_count": 107,
   "metadata": {},
   "outputs": [
    {
     "name": "stdout",
     "output_type": "stream",
     "text": [
      "Glasgow is the largest city in Scotland by population, but the specific population number isn't provided in the summary. You might need to check the most recent data from official sources such as the National Records of Scotland for the exact number.\n"
     ]
    }
   ],
   "source": [
    "messages = [{\"role\": \"user\", \"content\": \"What is the population of the largest city in Scotland\"}]\n",
    "\n",
    "response = client.run(agent=wikiagent, messages=messages)\n",
    "print(response.messages[-1][\"content\"])"
   ]
  },
  {
   "cell_type": "code",
   "execution_count": 108,
   "metadata": {},
   "outputs": [
    {
     "name": "stdout",
     "output_type": "stream",
     "text": [
      "Tool call: [{'id': 'call_DkOUR7CXi3Zr3nLvEESaG96N', 'function': {'arguments': '{\"q\":\"Largest city in Scotland\"}', 'name': 'wikipedia_lookup'}, 'type': 'function'}]\n",
      "Content: None\n",
      "Content: This list of towns and cities in Scotland with a population of more than 15,000 is ordered by population, as defined and compiled by the National Records of Scotland organisation. Glasgow is the largest city in Scotland by population, whilst the capital city, Edinburgh, is the second largest by population and largest by area (although the Aberdeen and Edinburgh local authority areas contain far more undeveloped land and have a lower population density than the council areas of Dundee and Glasgow; these are the only four city-districts in the country). The city of Stirling has the smallest population amongst Scotland's cities, with an estimated population of just over 37,000 inhabitants. In total, Scotland consists of eight cities, with multiple larger towns, the largest town being Paisley. \n",
      "The section \"Localities\" contains a list of basic populated areas ordered by population. The section \"Settlements\" is a list of populated urban areas, some of which are composed of more than one locality, and which may span across the boundaries of more than one council area.\n",
      "All localities are either settlements themselves, or contained within larger settlements. As of 2020, there are 656 localities in Scotland, and 514 settlements (i.e. 142 of the localities combine as elements of larger settlements).\n",
      "Tool call: [{'id': 'call_FQ5FjV3SvB8mShL56sn7fK35', 'function': {'arguments': '{\"q\":\"Glasgow population\"}', 'name': 'wikipedia_search'}, 'type': 'function'}]\n",
      "Content: None\n",
      "Content: Glasgow\n",
      "Tool call: [{'id': 'call_dIrT5i9e9YeLK083yCoLPwe0', 'function': {'arguments': '{\"q\":\"Glasgow demographics\"}', 'name': 'wikipedia_search'}, 'type': 'function'}]\n",
      "Content: Glasgow is the largest city in Scotland by population. To find the exact population size, I'll check the details for Glasgow.\n",
      "Content: Demographics of Glasgow\n",
      "Tool call: [{'id': 'call_h2i0ckryAaPW16vUnEpJQzW9', 'function': {'arguments': '{\"q\":\"Demographics of Glasgow\"}', 'name': 'wikipedia_lookup'}, 'type': 'function'}]\n",
      "Content: None\n",
      "Content: Glasgow is the most populous city in Scotland and the fourth most populous city in the United Kingdom.\n",
      "\n",
      "\n",
      "Tool call: None\n",
      "Content: Glasgow is the largest city in Scotland by population, but the specific population number isn't provided in the summary. You might need to check the most recent data from official sources such as the National Records of Scotland for the exact number.\n"
     ]
    }
   ],
   "source": [
    "for m in response.messages:\n",
    "    try: print(f\"Tool call: {m['tool_calls']}\")\n",
    "    except: pass\n",
    "    try: print(f\"Content: {m['content']}\")\n",
    "    except: pass"
   ]
  },
  {
   "cell_type": "markdown",
   "metadata": {},
   "source": [
    "### A simple workflow with one agent handing of to another"
   ]
  },
  {
   "cell_type": "code",
   "execution_count": 153,
   "metadata": {},
   "outputs": [],
   "source": [
    "def transfer_to_pr_agent():\n",
    "    return pr_agent\n",
    "\n",
    "agent = Agent(\n",
    "    name=\"Agent\",\n",
    "    instructions=\"\"\"You are a helpful agent that answers user queries by finding and analysing information from Wikipedia.\n",
    "                    You will be given a city or other location and you must retrieve it's entry on Wikipedia and then hand over to the PR Agent.\"\"\",\n",
    "    functions=[wikipedia_lookup, transfer_to_pr_agent],\n",
    ")\n",
    "\n",
    "pr_agent = Agent(\n",
    "    name=\"PR Agent\",\n",
    "    instructions=\"\"\"You are an experienced PR copywriter. \n",
    "                    Use only the information retrieved from Wikipedia to write an enthusiastic 100-word summary of the topic \n",
    "                    that would be suitable for a promonional campaign.\n",
    "                    Explain how you used the original material to create the result\"\"\",\n",
    ")\n",
    "\n",
    "\n",
    "\n"
   ]
  },
  {
   "cell_type": "code",
   "execution_count": 154,
   "metadata": {},
   "outputs": [
    {
     "name": "stdout",
     "output_type": "stream",
     "text": [
      "Welcome to Paris, the breathtaking capital of France, where romance dances in the air and culture knows no bounds! As the heart of finance, fashion, and gastronomy since the 17th century, Paris shines as the iconic \\\"City of Light,\\\" home to 2.1 million welcoming residents and a treasury of art and history. With world-renowned landmarks like the Louvre, the majestic Seine, and a vibrant arts scene, Paris captivates 12 million visitors in its embrace. Experience seamless connections through thriving transport networks, indulge in epicurean delights, and feel the pulse of creativity and innovation in this unparalleled metropolis. Paris awaits your discovery!\n",
      "\n",
      "---\n",
      "\n",
      "I crafted this exciting summary by highlighting key aspects from the Wikipedia entry on Paris. The content emphasized the city's historic importance as a cultural, financial, and gastronomical hub while accentuating its renowned symbols like the Louvre and the Seine. The population and importance of its transport system, alongside the notion of Paris being a vibrant visitor destination, were weaved into engaging phrases to capture the unique essence of Paris as a global icon.\n"
     ]
    }
   ],
   "source": [
    "messages = [{\"role\": \"user\", \"content\": \"Paris\"}]\n",
    "\n",
    "response = client.run(agent=agent, messages=messages)\n",
    "print(response.messages[-1][\"content\"])"
   ]
  },
  {
   "cell_type": "code",
   "execution_count": 155,
   "metadata": {},
   "outputs": [
    {
     "name": "stdout",
     "output_type": "stream",
     "text": [
      "Tool call: [{'id': 'call_5KAWDJeA6vDx0gwPPyFPM0et', 'function': {'arguments': '{\"q\":\"Paris\"}', 'name': 'wikipedia_lookup'}, 'type': 'function'}]\n",
      "Content: None\n",
      "Content: Paris (French pronunciation: [paʁi] ) is the capital and largest city of France. With an official estimated population of 2,102,650 residents in January 2023 in an area of more than 105 km2 (41 sq mi), Paris is the fourth-largest city in the European Union and the 30th most densely populated city in the world in 2022. Since the 17th century, Paris has been one of the world's major centres of finance, diplomacy, commerce, culture, fashion, and gastronomy. For its leading role in the arts and sciences, as well as its early and extensive system of street lighting, in the 19th century, it became known as the City of Light.\n",
      "The City of Paris is the centre of the Île-de-France region, or Paris Region, with an official estimated population of 12,271,794 inhabitants in January 2023, or about 19% of the population of France. The Paris Region had a GDP of €765 billion (US$1.064 trillion, PPP) in 2021, the highest in the European Union. According to the Economist Intelligence Unit Worldwide Cost of Living Survey, in 2022, Paris was the city with the ninth-highest cost of living in the world.\n",
      "Paris is a major railway, highway, and air-transport hub served by two international airports: Charles de Gaulle Airport, the third-busiest airport in Europe, and Orly Airport. Opened in 1900, the city's subway system, the Paris Métro, serves 5.23 million passengers daily. It is the second-busiest metro system in Europe after the Moscow Metro. Gare du Nord is the 24th-busiest railway station in the world and the busiest outside Japan, with 262 million passengers in 2015. Paris has one of the most sustainable transportation systems and is one of only two cities in the world that received the Sustainable Transport Award twice.\n",
      "Paris is known for its museums and architectural landmarks: the Louvre received 8.9 million visitors in 2023, on track for keeping its position as the most-visited art museum in the world. The Musée d'Orsay, Musée Marmottan Monet and Musée de l'Orangerie are noted for their collections of French Impressionist art. The Pompidou Centre Musée National d'Art Moderne, Musée Rodin and Musée Picasso are noted for their collections of modern and contemporary art. The historical district along the Seine in the city centre has been classified as a UNESCO World Heritage Site since 1991.\n",
      "Paris is home to several United Nations organizations including UNESCO, as well as other international organizations such as the OECD, the OECD Development Centre, the International Bureau of Weights and Measures, the International Energy Agency, the International Federation for Human Rights, along with European bodies such as the European Space Agency, the European Banking Authority and the European Securities and Markets Authority. The football club Paris Saint-Germain and the rugby union club Stade Français are based in Paris. The 81,000-seat Stade de France, built for the 1998 FIFA World Cup, is located just north of Paris in the neighbouring commune of Saint-Denis. Paris hosts the annual French Open Grand Slam tennis tournament on the red clay of Roland Garros. Paris hosted the 1900, the 1924, and the 2024 Summer Olympics. The 1938 and 1998 FIFA World Cups, the 2019 FIFA Women's World Cup, the 2007 Rugby World Cup, as well as the 1960, 1984 and 2016 UEFA European Championships were held in Paris. Every July, the Tour de France bicycle race finishes on the Avenue des Champs-Élysées in Paris.\n",
      "Tool call: [{'id': 'call_ahCllvYoiZR2RXCoTszlHlMO', 'function': {'arguments': '{}', 'name': 'transfer_to_pr_agent'}, 'type': 'function'}]\n",
      "Content: None\n",
      "Content: {\"assistant\": \"PR Agent\"}\n",
      "Tool call: None\n",
      "Content: Welcome to Paris, the breathtaking capital of France, where romance dances in the air and culture knows no bounds! As the heart of finance, fashion, and gastronomy since the 17th century, Paris shines as the iconic \\\"City of Light,\\\" home to 2.1 million welcoming residents and a treasury of art and history. With world-renowned landmarks like the Louvre, the majestic Seine, and a vibrant arts scene, Paris captivates 12 million visitors in its embrace. Experience seamless connections through thriving transport networks, indulge in epicurean delights, and feel the pulse of creativity and innovation in this unparalleled metropolis. Paris awaits your discovery!\n",
      "\n",
      "---\n",
      "\n",
      "I crafted this exciting summary by highlighting key aspects from the Wikipedia entry on Paris. The content emphasized the city's historic importance as a cultural, financial, and gastronomical hub while accentuating its renowned symbols like the Louvre and the Seine. The population and importance of its transport system, alongside the notion of Paris being a vibrant visitor destination, were weaved into engaging phrases to capture the unique essence of Paris as a global icon.\n"
     ]
    }
   ],
   "source": [
    "for m in response.messages:\n",
    "    try: print(f\"Tool call: {m['tool_calls']}\")\n",
    "    except: pass\n",
    "    try: print(f\"Content: {m['content']}\")\n",
    "    except: pass"
   ]
  },
  {
   "cell_type": "code",
   "execution_count": 156,
   "metadata": {},
   "outputs": [
    {
     "name": "stdout",
     "output_type": "stream",
     "text": [
      "{'content': None, 'refusal': None, 'role': 'assistant', 'audio': None, 'function_call': None, 'tool_calls': [{'id': 'call_5KAWDJeA6vDx0gwPPyFPM0et', 'function': {'arguments': '{\"q\":\"Paris\"}', 'name': 'wikipedia_lookup'}, 'type': 'function'}], 'sender': 'Agent'}\n",
      "{'role': 'tool', 'tool_call_id': 'call_5KAWDJeA6vDx0gwPPyFPM0et', 'tool_name': 'wikipedia_lookup', 'content': \"Paris (French pronunciation: [paʁi] ) is the capital and largest city of France. With an official estimated population of 2,102,650 residents in January 2023 in an area of more than 105 km2 (41 sq mi), Paris is the fourth-largest city in the European Union and the 30th most densely populated city in the world in 2022. Since the 17th century, Paris has been one of the world's major centres of finance, diplomacy, commerce, culture, fashion, and gastronomy. For its leading role in the arts and sciences, as well as its early and extensive system of street lighting, in the 19th century, it became known as the City of Light.\\nThe City of Paris is the centre of the Île-de-France region, or Paris Region, with an official estimated population of 12,271,794 inhabitants in January 2023, or about 19% of the population of France. The Paris Region had a GDP of €765 billion (US$1.064 trillion, PPP) in 2021, the highest in the European Union. According to the Economist Intelligence Unit Worldwide Cost of Living Survey, in 2022, Paris was the city with the ninth-highest cost of living in the world.\\nParis is a major railway, highway, and air-transport hub served by two international airports: Charles de Gaulle Airport, the third-busiest airport in Europe, and Orly Airport. Opened in 1900, the city's subway system, the Paris Métro, serves 5.23 million passengers daily. It is the second-busiest metro system in Europe after the Moscow Metro. Gare du Nord is the 24th-busiest railway station in the world and the busiest outside Japan, with 262 million passengers in 2015. Paris has one of the most sustainable transportation systems and is one of only two cities in the world that received the Sustainable Transport Award twice.\\nParis is known for its museums and architectural landmarks: the Louvre received 8.9 million visitors in 2023, on track for keeping its position as the most-visited art museum in the world. The Musée d'Orsay, Musée Marmottan Monet and Musée de l'Orangerie are noted for their collections of French Impressionist art. The Pompidou Centre Musée National d'Art Moderne, Musée Rodin and Musée Picasso are noted for their collections of modern and contemporary art. The historical district along the Seine in the city centre has been classified as a UNESCO World Heritage Site since 1991.\\nParis is home to several United Nations organizations including UNESCO, as well as other international organizations such as the OECD, the OECD Development Centre, the International Bureau of Weights and Measures, the International Energy Agency, the International Federation for Human Rights, along with European bodies such as the European Space Agency, the European Banking Authority and the European Securities and Markets Authority. The football club Paris Saint-Germain and the rugby union club Stade Français are based in Paris. The 81,000-seat Stade de France, built for the 1998 FIFA World Cup, is located just north of Paris in the neighbouring commune of Saint-Denis. Paris hosts the annual French Open Grand Slam tennis tournament on the red clay of Roland Garros. Paris hosted the 1900, the 1924, and the 2024 Summer Olympics. The 1938 and 1998 FIFA World Cups, the 2019 FIFA Women's World Cup, the 2007 Rugby World Cup, as well as the 1960, 1984 and 2016 UEFA European Championships were held in Paris. Every July, the Tour de France bicycle race finishes on the Avenue des Champs-Élysées in Paris.\"}\n",
      "{'content': None, 'refusal': None, 'role': 'assistant', 'audio': None, 'function_call': None, 'tool_calls': [{'id': 'call_ahCllvYoiZR2RXCoTszlHlMO', 'function': {'arguments': '{}', 'name': 'transfer_to_pr_agent'}, 'type': 'function'}], 'sender': 'Agent'}\n",
      "{'role': 'tool', 'tool_call_id': 'call_ahCllvYoiZR2RXCoTszlHlMO', 'tool_name': 'transfer_to_pr_agent', 'content': '{\"assistant\": \"PR Agent\"}'}\n",
      "{'content': 'Welcome to Paris, the breathtaking capital of France, where romance dances in the air and culture knows no bounds! As the heart of finance, fashion, and gastronomy since the 17th century, Paris shines as the iconic \\\\\"City of Light,\\\\\" home to 2.1 million welcoming residents and a treasury of art and history. With world-renowned landmarks like the Louvre, the majestic Seine, and a vibrant arts scene, Paris captivates 12 million visitors in its embrace. Experience seamless connections through thriving transport networks, indulge in epicurean delights, and feel the pulse of creativity and innovation in this unparalleled metropolis. Paris awaits your discovery!\\n\\n---\\n\\nI crafted this exciting summary by highlighting key aspects from the Wikipedia entry on Paris. The content emphasized the city\\'s historic importance as a cultural, financial, and gastronomical hub while accentuating its renowned symbols like the Louvre and the Seine. The population and importance of its transport system, alongside the notion of Paris being a vibrant visitor destination, were weaved into engaging phrases to capture the unique essence of Paris as a global icon.', 'refusal': None, 'role': 'assistant', 'audio': None, 'function_call': None, 'tool_calls': None, 'sender': 'PR Agent'}\n"
     ]
    }
   ],
   "source": [
    "for m in response.messages:\n",
    "    print(m)"
   ]
  }
 ],
 "metadata": {
  "kernelspec": {
   "display_name": "Python 3",
   "language": "python",
   "name": "python3"
  },
  "language_info": {
   "codemirror_mode": {
    "name": "ipython",
    "version": 3
   },
   "file_extension": ".py",
   "mimetype": "text/x-python",
   "name": "python",
   "nbconvert_exporter": "python",
   "pygments_lexer": "ipython3",
   "version": "3.12.7"
  }
 },
 "nbformat": 4,
 "nbformat_minor": 2
}
